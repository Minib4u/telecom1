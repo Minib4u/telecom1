{
 "cells": [
  {
   "cell_type": "code",
   "execution_count": 16,
   "id": "1a254965",
   "metadata": {},
   "outputs": [],
   "source": [
    "import pandas as pd\n",
    "import matplotlib.pyplot as plt\n",
    "import seaborn as sns"
   ]
  },
  {
   "cell_type": "code",
   "execution_count": 3,
   "id": "924db2b3",
   "metadata": {},
   "outputs": [
    {
     "data": {
      "text/html": [
       "<div>\n",
       "<style scoped>\n",
       "    .dataframe tbody tr th:only-of-type {\n",
       "        vertical-align: middle;\n",
       "    }\n",
       "\n",
       "    .dataframe tbody tr th {\n",
       "        vertical-align: top;\n",
       "    }\n",
       "\n",
       "    .dataframe thead th {\n",
       "        text-align: right;\n",
       "    }\n",
       "</style>\n",
       "<table border=\"1\" class=\"dataframe\">\n",
       "  <thead>\n",
       "    <tr style=\"text-align: right;\">\n",
       "      <th></th>\n",
       "      <th>CustomerID</th>\n",
       "      <th>Gender</th>\n",
       "      <th>SeniorCitizen</th>\n",
       "      <th>Partner</th>\n",
       "      <th>Dependents</th>\n",
       "      <th>State</th>\n",
       "      <th>Latitude</th>\n",
       "      <th>Longitude</th>\n",
       "      <th>ZipCode</th>\n",
       "      <th>PhoneService</th>\n",
       "      <th>...</th>\n",
       "      <th>TechSupport</th>\n",
       "      <th>StreamingTV</th>\n",
       "      <th>StreamingMovies</th>\n",
       "      <th>Tenure</th>\n",
       "      <th>Contract</th>\n",
       "      <th>PaymentMethod</th>\n",
       "      <th>PaperlessBilling</th>\n",
       "      <th>MonthlyCharges</th>\n",
       "      <th>TotalCharges</th>\n",
       "      <th>Churn</th>\n",
       "    </tr>\n",
       "  </thead>\n",
       "  <tbody>\n",
       "    <tr>\n",
       "      <th>0</th>\n",
       "      <td>3668-QPYBK</td>\n",
       "      <td>Male</td>\n",
       "      <td>No</td>\n",
       "      <td>No</td>\n",
       "      <td>No</td>\n",
       "      <td>California</td>\n",
       "      <td>33.964131</td>\n",
       "      <td>-118.272783</td>\n",
       "      <td>90003</td>\n",
       "      <td>Yes</td>\n",
       "      <td>...</td>\n",
       "      <td>No</td>\n",
       "      <td>No</td>\n",
       "      <td>No</td>\n",
       "      <td>2</td>\n",
       "      <td>Month-to-month</td>\n",
       "      <td>Mailed check</td>\n",
       "      <td>Yes</td>\n",
       "      <td>53.85</td>\n",
       "      <td>108.15</td>\n",
       "      <td>Yes</td>\n",
       "    </tr>\n",
       "    <tr>\n",
       "      <th>1</th>\n",
       "      <td>9237-HQITU</td>\n",
       "      <td>Female</td>\n",
       "      <td>No</td>\n",
       "      <td>No</td>\n",
       "      <td>Yes</td>\n",
       "      <td>California</td>\n",
       "      <td>34.059281</td>\n",
       "      <td>-118.307420</td>\n",
       "      <td>90005</td>\n",
       "      <td>Yes</td>\n",
       "      <td>...</td>\n",
       "      <td>No</td>\n",
       "      <td>No</td>\n",
       "      <td>No</td>\n",
       "      <td>2</td>\n",
       "      <td>Month-to-month</td>\n",
       "      <td>Electronic check</td>\n",
       "      <td>Yes</td>\n",
       "      <td>70.70</td>\n",
       "      <td>151.65</td>\n",
       "      <td>Yes</td>\n",
       "    </tr>\n",
       "    <tr>\n",
       "      <th>2</th>\n",
       "      <td>9305-CDSKC</td>\n",
       "      <td>Female</td>\n",
       "      <td>No</td>\n",
       "      <td>No</td>\n",
       "      <td>Yes</td>\n",
       "      <td>California</td>\n",
       "      <td>34.048013</td>\n",
       "      <td>-118.293953</td>\n",
       "      <td>90006</td>\n",
       "      <td>Yes</td>\n",
       "      <td>...</td>\n",
       "      <td>No</td>\n",
       "      <td>Yes</td>\n",
       "      <td>Yes</td>\n",
       "      <td>8</td>\n",
       "      <td>Month-to-month</td>\n",
       "      <td>Electronic check</td>\n",
       "      <td>Yes</td>\n",
       "      <td>99.65</td>\n",
       "      <td>820.50</td>\n",
       "      <td>Yes</td>\n",
       "    </tr>\n",
       "    <tr>\n",
       "      <th>3</th>\n",
       "      <td>7892-POOKP</td>\n",
       "      <td>Female</td>\n",
       "      <td>No</td>\n",
       "      <td>Yes</td>\n",
       "      <td>Yes</td>\n",
       "      <td>California</td>\n",
       "      <td>34.062125</td>\n",
       "      <td>-118.315709</td>\n",
       "      <td>90010</td>\n",
       "      <td>Yes</td>\n",
       "      <td>...</td>\n",
       "      <td>Yes</td>\n",
       "      <td>Yes</td>\n",
       "      <td>Yes</td>\n",
       "      <td>28</td>\n",
       "      <td>Month-to-month</td>\n",
       "      <td>Electronic check</td>\n",
       "      <td>Yes</td>\n",
       "      <td>104.80</td>\n",
       "      <td>3046.05</td>\n",
       "      <td>Yes</td>\n",
       "    </tr>\n",
       "    <tr>\n",
       "      <th>4</th>\n",
       "      <td>0280-XJGEX</td>\n",
       "      <td>Male</td>\n",
       "      <td>No</td>\n",
       "      <td>No</td>\n",
       "      <td>Yes</td>\n",
       "      <td>California</td>\n",
       "      <td>34.039224</td>\n",
       "      <td>-118.266293</td>\n",
       "      <td>90015</td>\n",
       "      <td>Yes</td>\n",
       "      <td>...</td>\n",
       "      <td>No</td>\n",
       "      <td>Yes</td>\n",
       "      <td>Yes</td>\n",
       "      <td>49</td>\n",
       "      <td>Month-to-month</td>\n",
       "      <td>Bank transfer (automatic)</td>\n",
       "      <td>Yes</td>\n",
       "      <td>103.70</td>\n",
       "      <td>5036.30</td>\n",
       "      <td>Yes</td>\n",
       "    </tr>\n",
       "  </tbody>\n",
       "</table>\n",
       "<p>5 rows × 25 columns</p>\n",
       "</div>"
      ],
      "text/plain": [
       "   CustomerID  Gender SeniorCitizen Partner Dependents       State   Latitude  \\\n",
       "0  3668-QPYBK    Male            No      No         No  California  33.964131   \n",
       "1  9237-HQITU  Female            No      No        Yes  California  34.059281   \n",
       "2  9305-CDSKC  Female            No      No        Yes  California  34.048013   \n",
       "3  7892-POOKP  Female            No     Yes        Yes  California  34.062125   \n",
       "4  0280-XJGEX    Male            No      No        Yes  California  34.039224   \n",
       "\n",
       "    Longitude  ZipCode PhoneService  ... TechSupport StreamingTV  \\\n",
       "0 -118.272783    90003          Yes  ...          No          No   \n",
       "1 -118.307420    90005          Yes  ...          No          No   \n",
       "2 -118.293953    90006          Yes  ...          No         Yes   \n",
       "3 -118.315709    90010          Yes  ...         Yes         Yes   \n",
       "4 -118.266293    90015          Yes  ...          No         Yes   \n",
       "\n",
       "  StreamingMovies Tenure        Contract              PaymentMethod  \\\n",
       "0              No      2  Month-to-month               Mailed check   \n",
       "1              No      2  Month-to-month           Electronic check   \n",
       "2             Yes      8  Month-to-month           Electronic check   \n",
       "3             Yes     28  Month-to-month           Electronic check   \n",
       "4             Yes     49  Month-to-month  Bank transfer (automatic)   \n",
       "\n",
       "  PaperlessBilling MonthlyCharges  TotalCharges Churn  \n",
       "0              Yes          53.85        108.15   Yes  \n",
       "1              Yes          70.70        151.65   Yes  \n",
       "2              Yes          99.65        820.50   Yes  \n",
       "3              Yes         104.80       3046.05   Yes  \n",
       "4              Yes         103.70       5036.30   Yes  \n",
       "\n",
       "[5 rows x 25 columns]"
      ]
     },
     "execution_count": 3,
     "metadata": {},
     "output_type": "execute_result"
    }
   ],
   "source": [
    "customer=pd.read_csv('churn_all.csv')\n",
    "customer.head()"
   ]
  },
  {
   "cell_type": "code",
   "execution_count": 4,
   "id": "99ec45c6",
   "metadata": {},
   "outputs": [
    {
     "name": "stdout",
     "output_type": "stream",
     "text": [
      "customer Loaded:\n",
      "<class 'pandas.core.frame.DataFrame'>\n",
      "RangeIndex: 7032 entries, 0 to 7031\n",
      "Data columns (total 25 columns):\n",
      " #   Column            Non-Null Count  Dtype  \n",
      "---  ------            --------------  -----  \n",
      " 0   CustomerID        7032 non-null   object \n",
      " 1   Gender            7032 non-null   object \n",
      " 2   SeniorCitizen     7032 non-null   object \n",
      " 3   Partner           7032 non-null   object \n",
      " 4   Dependents        7032 non-null   object \n",
      " 5   State             7032 non-null   object \n",
      " 6   Latitude          7032 non-null   float64\n",
      " 7   Longitude         7032 non-null   float64\n",
      " 8   ZipCode           7032 non-null   int64  \n",
      " 9   PhoneService      7032 non-null   object \n",
      " 10  MultipleLines     7032 non-null   object \n",
      " 11  InternetService   7032 non-null   object \n",
      " 12  OnlineSecurity    7032 non-null   object \n",
      " 13  OnlineBackup      7032 non-null   object \n",
      " 14  DeviceProtection  7032 non-null   object \n",
      " 15  TechSupport       7032 non-null   object \n",
      " 16  StreamingTV       7032 non-null   object \n",
      " 17  StreamingMovies   7032 non-null   object \n",
      " 18  Tenure            7032 non-null   int64  \n",
      " 19  Contract          7032 non-null   object \n",
      " 20  PaymentMethod     7032 non-null   object \n",
      " 21  PaperlessBilling  7032 non-null   object \n",
      " 22  MonthlyCharges    7032 non-null   float64\n",
      " 23  TotalCharges      7032 non-null   float64\n",
      " 24  Churn             7032 non-null   object \n",
      "dtypes: float64(4), int64(2), object(19)\n",
      "memory usage: 1.3+ MB\n",
      "None\n"
     ]
    }
   ],
   "source": [
    "# Overview of the dataset\n",
    "print(\"customer Loaded:\")\n",
    "print(customer.info())"
   ]
  },
  {
   "cell_type": "code",
   "execution_count": 5,
   "id": "8dd4af34",
   "metadata": {},
   "outputs": [
    {
     "name": "stdout",
     "output_type": "stream",
     "text": [
      "\n",
      "Best Coverage Area (Top 5 States):\n",
      "State\n",
      "California    7032\n",
      "Name: count, dtype: int64\n"
     ]
    }
   ],
   "source": [
    "# Best coverage area - Analyzing customer count by region\n",
    "coverage_area = customer['State'].value_counts()\n",
    "print(\"\\nBest Coverage Area (Top 5 States):\")\n",
    "print(coverage_area.head())"
   ]
  },
  {
   "cell_type": "code",
   "execution_count": 6,
   "id": "529e98ab",
   "metadata": {},
   "outputs": [
    {
     "name": "stdout",
     "output_type": "stream",
     "text": [
      "\n",
      "Number of Active Customers (Sales): 5163\n"
     ]
    }
   ],
   "source": [
    "# Number of sales (active customers)\n",
    "active_customers = customer[customer['Churn'] == 'No']\n",
    "number_of_sales = len(active_customers)\n",
    "print(f\"\\nNumber of Active Customers (Sales): {number_of_sales}\")"
   ]
  },
  {
   "cell_type": "code",
   "execution_count": 7,
   "id": "5c071bd8",
   "metadata": {},
   "outputs": [
    {
     "name": "stdout",
     "output_type": "stream",
     "text": [
      "\n",
      "Number of Customers Without Tech Support: 3472\n"
     ]
    }
   ],
   "source": [
    "# Tech support problem - Customers not subscribed to tech support\n",
    "tech_support_issues = customer[customer['TechSupport'] == 'No']\n",
    "tech_support_problem_count = len(tech_support_issues)\n",
    "print(f\"\\nNumber of Customers Without Tech Support: {tech_support_problem_count}\")"
   ]
  },
  {
   "cell_type": "code",
   "execution_count": 8,
   "id": "59aea88a",
   "metadata": {},
   "outputs": [
    {
     "name": "stdout",
     "output_type": "stream",
     "text": [
      "\n",
      "Service with Highest Sales:\n",
      "PhoneService: 6352\n"
     ]
    }
   ],
   "source": [
    "# Service with highest sales\n",
    "services = ['PhoneService', 'InternetService', 'OnlineSecurity', 'OnlineBackup', 'DeviceProtection', 'StreamingTV', 'StreamingMovies']\n",
    "service_sales = {service: customer[service].value_counts().get('Yes', 0) for service in services}\n",
    "service_with_highest_sales = max(service_sales, key=service_sales.get)\n",
    "print(\"\\nService with Highest Sales:\")\n",
    "print(f\"{service_with_highest_sales}: {service_sales[service_with_highest_sales]}\")"
   ]
  },
  {
   "cell_type": "code",
   "execution_count": 9,
   "id": "5228cb38",
   "metadata": {},
   "outputs": [
    {
     "name": "stdout",
     "output_type": "stream",
     "text": [
      "\n",
      "Number of Services per Customer:\n",
      "ServicesCount\n",
      "1    1697\n",
      "2    1186\n",
      "3     965\n",
      "4     921\n",
      "5     906\n",
      "6     674\n",
      "7     395\n",
      "8     208\n",
      "0      80\n",
      "Name: count, dtype: int64\n"
     ]
    }
   ],
   "source": [
    "# Number of services per customer\n",
    "service_columns = ['PhoneService', 'MultipleLines', 'InternetService', 'OnlineSecurity', \n",
    "                   'OnlineBackup', 'DeviceProtection', 'TechSupport', 'StreamingTV', 'StreamingMovies']\n",
    "customer['ServicesCount'] = customer[service_columns].apply(lambda x: sum(x == 'Yes'), axis=1)\n",
    "number_of_services_distribution = customer['ServicesCount'].value_counts()\n",
    "print(\"\\nNumber of Services per Customer:\")\n",
    "print(number_of_services_distribution)"
   ]
  },
  {
   "cell_type": "code",
   "execution_count": 10,
   "id": "773dacc0",
   "metadata": {},
   "outputs": [
    {
     "name": "stdout",
     "output_type": "stream",
     "text": [
      "\n",
      "Total Churn Customers: 1869\n"
     ]
    }
   ],
   "source": [
    "#Total churn customers\n",
    "churned_customers = len(customer[customer['Churn'] == 'Yes'])\n",
    "print(f\"\\nTotal Churn Customers: {churned_customers}\")"
   ]
  },
  {
   "cell_type": "code",
   "execution_count": 11,
   "id": "ec26bd03",
   "metadata": {},
   "outputs": [],
   "source": [
    "# Offers and customer service insights\n",
    "# Correlation between churn and payment method, contract type, etc.\n",
    "offers_insights = customer.groupby(['Churn', 'Contract']).size()\n",
    "customer_service_insights = customer.groupby(['Churn', 'PaymentMethod']).size()"
   ]
  },
  {
   "cell_type": "code",
   "execution_count": 12,
   "id": "e43561f1",
   "metadata": {},
   "outputs": [
    {
     "name": "stdout",
     "output_type": "stream",
     "text": [
      "\n",
      "Offers Insights (Churn by Contract Type):\n",
      "Churn  Contract      \n",
      "No     Month-to-month    2220\n",
      "       One year          1306\n",
      "       Two year          1637\n",
      "Yes    Month-to-month    1655\n",
      "       One year           166\n",
      "       Two year            48\n",
      "dtype: int64\n",
      "\n",
      "Customer Service Insights (Churn by Payment Method):\n",
      "Churn  PaymentMethod            \n",
      "No     Bank transfer (automatic)    1284\n",
      "       Credit card (automatic)      1289\n",
      "       Electronic check             1294\n",
      "       Mailed check                 1296\n",
      "Yes    Bank transfer (automatic)     258\n",
      "       Credit card (automatic)       232\n",
      "       Electronic check             1071\n",
      "       Mailed check                  308\n",
      "dtype: int64\n"
     ]
    }
   ],
   "source": [
    "print(\"\\nOffers Insights (Churn by Contract Type):\")\n",
    "print(offers_insights)\n",
    "print(\"\\nCustomer Service Insights (Churn by Payment Method):\")\n",
    "print(customer_service_insights)"
   ]
  },
  {
   "cell_type": "code",
   "execution_count": 19,
   "id": "991a8b29",
   "metadata": {},
   "outputs": [],
   "source": [
    "# Calculate churn rate by gender\n",
    "gender_churn = customer.groupby(['Gender', 'Churn']).size().unstack()\n",
    "gender_churn['ChurnRate'] = gender_churn['Yes'] / (gender_churn['Yes'] + gender_churn['No'])"
   ]
  },
  {
   "cell_type": "code",
   "execution_count": 20,
   "id": "9b6073df",
   "metadata": {},
   "outputs": [
    {
     "data": {
      "image/png": "[encoded data removed]",
      "text/plain": [
       "<Figure size 1000x500 with 1 Axes>"
      ]
     },
     "metadata": {},
     "output_type": "display_data"
    }
   ],
   "source": [
    "# Plot churn rate by gender\n",
    "plt.figure(figsize=(10, 5))\n",
    "sns.barplot(x=gender_churn.index, y=gender_churn['ChurnRate'], palette='coolwarm')\n",
    "plt.title('Churn Rate by Gender')\n",
    "plt.ylabel('Churn Rate')\n",
    "plt.xlabel('Gender')\n",
    "plt.ylim(0, 1)\n",
    "plt.show()"
   ]
  },
  {
   "cell_type": "code",
   "execution_count": 21,
   "id": "8aa62562",
   "metadata": {},
   "outputs": [],
   "source": [
    "# Calculate churn rate for senior citizens\n",
    "senior_churn = customer.groupby(['SeniorCitizen', 'Churn']).size().unstack()\n",
    "senior_churn['ChurnRate'] = senior_churn['Yes'] / (senior_churn['Yes'] + senior_churn['No'])"
   ]
  },
  {
   "cell_type": "code",
   "execution_count": 22,
   "id": "eb1f3223",
   "metadata": {},
   "outputs": [
    {
     "data": {
      "image/png": "[encoded data removed]",
      "text/plain": [
       "<Figure size 1000x500 with 1 Axes>"
      ]
     },
     "metadata": {},
     "output_type": "display_data"
    }
   ],
   "source": [
    "# Plot churn rate for senior citizens\n",
    "plt.figure(figsize=(10, 5))\n",
    "sns.barplot(x=senior_churn.index, y=senior_churn['ChurnRate'], palette='coolwarm')\n",
    "plt.title('Churn Rate by Senior Citizen Status')\n",
    "plt.ylabel('Churn Rate')\n",
    "plt.xlabel('Senior Citizen (0 = No, 1 = Yes)')\n",
    "plt.ylim(0, 1)\n",
    "plt.show()"
   ]
  },
  {
   "cell_type": "code",
   "execution_count": 25,
   "id": "499d2d38",
   "metadata": {},
   "outputs": [],
   "source": [
    "# Count the number of customers subscribed to each service\n",
    "service_sales = {service: customer[service].value_counts().get('Yes', 0) for service in service_columns}"
   ]
  },
  {
   "cell_type": "code",
   "execution_count": 26,
   "id": "136b70e0",
   "metadata": {},
   "outputs": [],
   "source": [
    "# Convert to a DataFrame for easier plotting\n",
    "service_sales_df = pd.DataFrame(list(service_sales.items()), columns=['Service', 'Sales'])"
   ]
  },
  {
   "cell_type": "code",
   "execution_count": 27,
   "id": "2c888dbd",
   "metadata": {},
   "outputs": [
    {
     "data": {
      "image/png": "[encoded data removed]",
      "text/plain": [
       "<Figure size 1200x600 with 1 Axes>"
      ]
     },
     "metadata": {},
     "output_type": "display_data"
    }
   ],
   "source": [
    "# Plotting the sales via bar chart\n",
    "plt.figure(figsize=(12, 6))\n",
    "sns.barplot(x='Service', y='Sales', data=service_sales_df, palette='viridis')\n",
    "plt.title('Sales of All Services', fontsize=16)\n",
    "plt.xlabel('Service', fontsize=12)\n",
    "plt.ylabel('Number of Subscriptions', fontsize=12)\n",
    "plt.xticks(rotation=45)\n",
    "plt.show()"
   ]
  },
  {
   "cell_type": "code",
   "execution_count": null,
   "id": "49364c21",
   "metadata": {},
   "outputs": [],
   "source": []
  }
 ],
 "metadata": {
  "kernelspec": {
   "display_name": "Python 3 (ipykernel)",
   "language": "python",
   "name": "python3"
  },
  "language_info": {
   "codemirror_mode": {
    "name": "ipython",
    "version": 3
   },
   "file_extension": ".py",
   "mimetype": "text/x-python",
   "name": "python",
   "nbconvert_exporter": "python",
   "pygments_lexer": "ipython3",
   "version": "3.11.5"
  }
 },
 "nbformat": 4,
 "nbformat_minor": 5
}
